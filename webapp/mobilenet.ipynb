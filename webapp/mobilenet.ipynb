{
 "cells": [
  {
   "cell_type": "code",
   "execution_count": 4,
   "metadata": {},
   "outputs": [
    {
     "name": "stderr",
     "output_type": "stream",
     "text": [
      "C:\\Users\\SOWMYA\\AppData\\Roaming\\Python\\Python39\\site-packages\\pandas\\core\\computation\\expressions.py:21: UserWarning: Pandas requires version '2.8.4' or newer of 'numexpr' (version '2.8.1' currently installed).\n",
      "  from pandas.core.computation.check import NUMEXPR_INSTALLED\n",
      "C:\\Users\\SOWMYA\\AppData\\Roaming\\Python\\Python39\\site-packages\\pandas\\core\\arrays\\masked.py:60: UserWarning: Pandas requires version '1.3.6' or newer of 'bottleneck' (version '1.3.4' currently installed).\n",
      "  from pandas.core import (\n",
      "C:\\Users\\SOWMYA\\AppData\\Local\\Temp\\ipykernel_24388\\2051143547.py:2: DeprecationWarning: \n",
      "Pyarrow will become a required dependency of pandas in the next major release of pandas (pandas 3.0),\n",
      "(to allow more performant data types, such as the Arrow string type, and better interoperability with other libraries)\n",
      "but was not found to be installed on your system.\n",
      "If this would cause problems for you,\n",
      "please provide us feedback at https://github.com/pandas-dev/pandas/issues/54466\n",
      "        \n",
      "  import pandas as pd\n",
      "C:\\Users\\SOWMYA\\AppData\\Roaming\\Python\\Python39\\site-packages\\matplotlib\\projections\\__init__.py:63: UserWarning: Unable to import Axes3D. This may be due to multiple versions of Matplotlib being installed (e.g. as a system package and as a pip package). As a result, the 3D projection is not available.\n",
      "  warnings.warn(\"Unable to import Axes3D. This may be due to multiple versions of \"\n"
     ]
    },
    {
     "name": "stdout",
     "output_type": "stream",
     "text": [
      "WARNING:tensorflow:From C:\\Users\\SOWMYA\\AppData\\Roaming\\Python\\Python39\\site-packages\\keras\\src\\losses.py:2976: The name tf.losses.sparse_softmax_cross_entropy is deprecated. Please use tf.compat.v1.losses.sparse_softmax_cross_entropy instead.\n",
      "\n"
     ]
    }
   ],
   "source": [
    "import numpy as np\n",
    "import pandas as pd\n",
    "import matplotlib.pyplot as plt\n",
    "import tensorflow as tf\n",
    "from sklearn.metrics import confusion_matrix\n",
    "from sklearn.model_selection import train_test_split\n",
    "from keras.models import Model, Sequential, load_model\n",
    "from keras.layers import Dense, Dropout, Flatten, Conv2D, MaxPool2D, BatchNormalization, AveragePooling2D,GlobalAveragePooling2D,Input\n",
    "from keras.preprocessing.image import ImageDataGenerator\n",
    "import warnings\n",
    "warnings.filterwarnings(\"ignore\",category=DeprecationWarning)"
   ]
  },
  {
   "cell_type": "code",
   "execution_count": 1,
   "metadata": {},
   "outputs": [],
   "source": [
    "import os"
   ]
  },
  {
   "cell_type": "code",
   "execution_count": 4,
   "metadata": {},
   "outputs": [
    {
     "name": "stdout",
     "output_type": "stream",
     "text": [
      "{'train': '../train/images', 'val': '../valid/images', 'test': '../test/images', 'nc': 6, 'names': ['BIODEGRADABLE', 'CARDBOARD', 'GLASS', 'METAL', 'PAPER', 'PLASTIC'], 'roboflow': {'workspace': 'material-identification', 'project': 'garbage-classification-3', 'version': 2, 'license': 'CC BY 4.0', 'url': 'https://universe.roboflow.com/material-identification/garbage-classification-3/dataset/2'}}\n"
     ]
    }
   ],
   "source": [
    "import yaml\n",
    "\n",
    "with open(r\"GARBAGE DATASET\\GARBAGE CLASSIFICATION 3.v2-gc1.yolov5pytorch\\data.yaml\", \"r\") as stream:\n",
    "    try:\n",
    "        print(yaml.safe_load(stream))\n",
    "    except yaml.YAMLError as exc:\n",
    "        print(exc)"
   ]
  },
  {
   "cell_type": "code",
   "execution_count": 2,
   "metadata": {},
   "outputs": [
    {
     "name": "stdout",
     "output_type": "stream",
     "text": [
      "['images', 'labels']\n",
      "2\n"
     ]
    }
   ],
   "source": [
    "data_dir = r\"GARBAGE DATASET\\GARBAGE CLASSIFICATION 3.v2-gc1.yolov5pytorch\\test\"\n",
    "oil=[]\n",
    "for file in os.listdir(data_dir):\n",
    "    oil+=[file]\n",
    "print(oil)\n",
    "print(len(oil))"
   ]
  },
  {
   "cell_type": "code",
   "execution_count": 3,
   "metadata": {},
   "outputs": [
    {
     "name": "stdout",
     "output_type": "stream",
     "text": [
      "Found 1201 images belonging to 5 classes.\n",
      "Found 303 images belonging to 5 classes.\n"
     ]
    }
   ],
   "source": [
    "img_height,img_width=256,256\n",
    "batch_size=20\n",
    "\n",
    "train_datagen = ImageDataGenerator(rescale=1./255)\n",
    "train_generator = train_datagen.flow_from_directory(r\"GARBAGE DATASET\\GARBAGE CLASSIFICATION 3.v2-gc1.yolov5pytorch\\train\",\n",
    "                                                target_size=(img_height,img_width),\n",
    "                                                batch_size=batch_size,\n",
    "                                                class_mode='categorical',\n",
    "                                                subset='training')\n",
    "test_generator = train_datagen.flow_from_directory(r\"GARBAGE DATASET\\GARBAGE CLASSIFICATION 3.v2-gc1.yolov5pytorch\\test\",\n",
    "                                                target_size=(img_height,img_width),\n",
    "                                                batch_size=batch_size,\n",
    "                                                class_mode='categorical',\n",
    "                                                )"
   ]
  },
  {
   "cell_type": "code",
   "execution_count": 4,
   "metadata": {},
   "outputs": [
    {
     "name": "stdout",
     "output_type": "stream",
     "text": [
      "WARNING:tensorflow:`input_shape` is undefined or non-square, or `rows` is not in [128, 160, 192, 224]. Weights for input shape (224, 224) will be loaded as the default.\n",
      "Model: \"sequential\"\n",
      "_________________________________________________________________\n",
      " Layer (type)                Output Shape              Param #   \n",
      "=================================================================\n",
      " mobilenet_1.00_224 (Functi  (None, 8, 8, 1024)        3228864   \n",
      " onal)                                                           \n",
      "                                                                 \n",
      " global_average_pooling2d (  (None, 1024)              0         \n",
      " GlobalAveragePooling2D)                                         \n",
      "                                                                 \n",
      " dense (Dense)               (None, 64)                65600     \n",
      "                                                                 \n",
      " batch_normalization (Batch  (None, 64)                256       \n",
      " Normalization)                                                  \n",
      "                                                                 \n",
      " dropout (Dropout)           (None, 64)                0         \n",
      "                                                                 \n",
      " dense_1 (Dense)             (None, 5)                 325       \n",
      "                                                                 \n",
      "=================================================================\n",
      "Total params: 3295045 (12.57 MB)\n",
      "Trainable params: 3273029 (12.49 MB)\n",
      "Non-trainable params: 22016 (86.00 KB)\n",
      "_________________________________________________________________\n"
     ]
    }
   ],
   "source": [
    "base_model = tf.keras.applications.MobileNet(input_shape=(img_height,img_width, 3), include_top=False,\n",
    "                          weights='imagenet')\n",
    "model1 = Sequential()\n",
    "model1.add(base_model)\n",
    "model1.add(GlobalAveragePooling2D())\n",
    "model1.add(Dense(64, activation='relu'))\n",
    "model1.add(BatchNormalization())\n",
    "model1.add(Dropout(0.2)) \n",
    "model1.add(Dense(6, activation='sigmoid'))\n",
    "model1.summary()"
   ]
  },
  {
   "cell_type": "code",
   "execution_count": 6,
   "metadata": {},
   "outputs": [
    {
     "name": "stdout",
     "output_type": "stream",
     "text": [
      "Epoch 1/5\n",
      "61/61 [==============================] - 185s 3s/step - loss: 1.5039 - accuracy: 0.4521 - val_loss: 2.7023 - val_accuracy: 0.3333\n",
      "Epoch 2/5\n",
      "61/61 [==============================] - 160s 3s/step - loss: 0.7587 - accuracy: 0.7261 - val_loss: 3.1058 - val_accuracy: 0.4059\n",
      "Epoch 3/5\n",
      "61/61 [==============================] - 161s 3s/step - loss: 0.4091 - accuracy: 0.8576 - val_loss: 2.7169 - val_accuracy: 0.4257\n",
      "Epoch 4/5\n",
      "61/61 [==============================] - 171s 3s/step - loss: 0.2709 - accuracy: 0.9126 - val_loss: 2.0661 - val_accuracy: 0.5017\n",
      "Epoch 5/5\n",
      "61/61 [==============================] - 191s 3s/step - loss: 0.2369 - accuracy: 0.9284 - val_loss: 3.4901 - val_accuracy: 0.4587\n"
     ]
    }
   ],
   "source": [
    "model1.compile(optimizer=\"adam\",loss=\"categorical_crossentropy\",metrics=['accuracy'])\n",
    "hist=model1.fit(train_generator,epochs=25,validation_data=test_generator)"
   ]
  },
  {
   "cell_type": "code",
   "execution_count": 7,
   "metadata": {},
   "outputs": [
    {
     "name": "stderr",
     "output_type": "stream",
     "text": [
      "C:\\Users\\0585\\AppData\\Roaming\\Python\\Python310\\site-packages\\keras\\src\\engine\\training.py:3079: UserWarning: You are saving your model as an HDF5 file via `model.save()`. This file format is considered legacy. We recommend using instead the native Keras format, e.g. `model.save('my_model.keras')`.\n",
      "  saving_api.save_model(\n"
     ]
    }
   ],
   "source": [
    "model1.save(\"models/newMobilenet.h5\")\n"
   ]
  },
  {
   "cell_type": "code",
   "execution_count": 2,
   "metadata": {},
   "outputs": [
    {
     "name": "stdout",
     "output_type": "stream",
     "text": [
      "[[0.5400763154029846, 0.8339694738388062, 0.927480936050415, 0.9389312863349915, 0.9561068415641785, 0.9580152630805969, 0.982824444770813, 0.9713740348815918, 0.9503816962242126, 0.9408397078514099, 0.9522900581359863, 0.9637404680252075, 0.927480936050415, 0.9141221642494202, 0.9637404680252075, 0.9770992398262024, 0.9770992398262024, 0.9942747950553894, 0.9942747950553894, 0.9618320465087891, 0.8664122223854065, 0.919847309589386, 0.9389312863349915, 0.9103053212165833, 0.9217557311058044], [0.24092409014701843, 0.14191418886184692, 0.22772277891635895, 0.33003300428390503, 0.3696369528770447, 0.4686468541622162, 0.39603960514068604, 0.4554455578327179, 0.264026403427124, 0.2574257552623749, 0.27062705159187317, 0.3465346395969391, 0.3465346395969391, 0.3366336524486542, 0.39273926615715027, 0.42574256658554077, 0.36303630471229553, 0.38283827900886536, 0.3993399441242218, 0.25082507729530334, 0.30693069100379944, 0.3663366436958313, 0.3663366436958313, 0.3564356565475464, 0.33003300428390503], [1.3906242847442627, 0.5095479488372803, 0.2583630383014679, 0.21365292370319366, 0.2058725357055664, 0.1498890072107315, 0.08773703873157501, 0.09563414752483368, 0.12980583310127258, 0.20296943187713623, 0.1822609007358551, 0.11311692744493484, 0.2509813904762268, 0.2366219460964203, 0.1368316262960434, 0.09607211500406265, 0.06986715644598007, 0.030745510011911392, 0.025898976251482964, 0.13533984124660492, 0.3926088213920593, 0.23914557695388794, 0.1762130856513977, 0.2995907962322235, 0.22781451046466827], [3.428330183029175, 7.4454665184021, 4.055886268615723, 2.8206191062927246, 3.5559959411621094, 2.0586578845977783, 3.2217087745666504, 2.471867084503174, 5.569652557373047, 4.856928825378418, 3.956024408340454, 3.5792346000671387, 3.392798900604248, 3.4451138973236084, 3.315859079360962, 3.0234649181365967, 3.450019359588623, 4.013866901397705, 3.514331340789795, 7.2644124031066895, 3.948000907897949, 2.922919273376465, 2.9800374507904053, 2.103006601333618, 3.88627028465271], [0.9179389476776123], [0.21782177686691284]]\n"
     ]
    }
   ],
   "source": [
    "file=open(r\"plain.txt\",\"r\")\n",
    "Lines=file.readlines()\n",
    "count=0\n",
    "accuracy=[]\n",
    "for i in Lines:\n",
    "    count+=1\n",
    "    accuracy.append([float(x) for x in i.split(\",\")])\n",
    "print(accuracy)"
   ]
  },
  {
   "cell_type": "code",
   "execution_count": 5,
   "metadata": {},
   "outputs": [
    {
     "data": {
      "image/png": "[encoded data removed]",
      "text/plain": [
       "<Figure size 432x288 with 2 Axes>"
      ]
     },
     "metadata": {
      "needs_background": "light"
     },
     "output_type": "display_data"
    }
   ],
   "source": [
    "\n",
    "fig, ax = plt.subplots(2,1)\n",
    "ax[0].plot(accuracy[0], color='b', label=\"Training accuracy\")\n",
    "\n",
    "ax[0].plot(accuracy[1], color='r',label=\"Validation accuracy\")\n",
    "\n",
    "legend = ax[0].legend(loc='best', shadow=True)\n",
    "\n",
    "ax[1].plot(accuracy[2], color='b', label=\"Training loss\")\n",
    "\n",
    "ax[1].plot(accuracy[3], color='r', label=\"validation loss\")\n",
    "\n",
    "legend = ax[1].legend(loc='best', shadow=True)"
   ]
  },
  {
   "cell_type": "code",
   "execution_count": 6,
   "metadata": {},
   "outputs": [
    {
     "name": "stdout",
     "output_type": "stream",
     "text": [
      "[0.9179389476776123]\n"
     ]
    }
   ],
   "source": [
    "print(accuracy[-2])"
   ]
  },
  {
   "cell_type": "code",
   "execution_count": 7,
   "metadata": {},
   "outputs": [
    {
     "name": "stdout",
     "output_type": "stream",
     "text": [
      "[0.21782177686691284]\n"
     ]
    }
   ],
   "source": [
    "print(accuracy[-1])"
   ]
  },
  {
   "cell_type": "code",
   "execution_count": null,
   "metadata": {},
   "outputs": [],
   "source": []
  }
 ],
 "metadata": {
  "kernelspec": {
   "display_name": "Python 3",
   "language": "python",
   "name": "python3"
  },
  "language_info": {
   "codemirror_mode": {
    "name": "ipython",
    "version": 3
   },
   "file_extension": ".py",
   "mimetype": "text/x-python",
   "name": "python",
   "nbconvert_exporter": "python",
   "pygments_lexer": "ipython3",
   "version": "2022.5.0"
  }
 },
 "nbformat": 4,
 "nbformat_minor": 2
}
